{
 "cells": [
  {
   "cell_type": "markdown",
   "id": "62b23d63",
   "metadata": {},
   "source": [
    "#Ans1.) \n",
    "\n",
    "The open() function is used to open a file in Python. It takes two arguments: the file name/path and the mode in which the file should be opened. The different modes of opening a file are:\n",
    "\n",
    "'r': Open a file for reading. The file must exist. This is the default mode.\n",
    "'w': Open a file for writing. If the file exists, it will be truncated (emptied). If the file does not exist, a new file will be created.\n",
    "'a': Open a file for appending. The file pointer is at the end of the file, and data is written to the file without overwriting the existing content. If the file does not exist, it will be created.\n",
    "'b': Open a file in binary mode.\n",
    "'t': Open a file in text mode. This is the default mode.\n",
    "'+': Open a file for updating (reading and writing)."
   ]
  },
  {
   "cell_type": "code",
   "execution_count": null,
   "id": "7f0b62e7",
   "metadata": {},
   "outputs": [],
   "source": []
  },
  {
   "cell_type": "markdown",
   "id": "85ee766d",
   "metadata": {},
   "source": [
    "\n",
    "#Ans2.) \n",
    "\n",
    "The close() function is used to close a file after performing operations on it. It is important to close a file because it releases the system resources associated with the file. Failing to close a file can lead to resource leaks, which may cause issues such as running out of file handles or memory."
   ]
  },
  {
   "cell_type": "code",
   "execution_count": null,
   "id": "1edbe478",
   "metadata": {},
   "outputs": [],
   "source": []
  },
  {
   "cell_type": "code",
   "execution_count": 2,
   "id": "444947b8",
   "metadata": {},
   "outputs": [
    {
     "name": "stdout",
     "output_type": "stream",
     "text": [
      "I want to become a Data Scientist\n"
     ]
    }
   ],
   "source": [
    "#Ans3.) \n",
    "\n",
    "\n",
    "#Python program to create a text file, write content to it, close the file, and then read its contents\n",
    "\n",
    "# Create a text file\n",
    "with open(\"example.txt\", \"w\") as file:\n",
    "    file.write(\"I want to become a Data Scientist\")\n",
    "\n",
    "# Open the file and read its content\n",
    "with open(\"example.txt\", \"r\") as file:\n",
    "    content = file.read()\n",
    "    print(content)\n"
   ]
  },
  {
   "cell_type": "code",
   "execution_count": null,
   "id": "ec40b4f1",
   "metadata": {},
   "outputs": [],
   "source": []
  },
  {
   "cell_type": "markdown",
   "id": "42fa6bbd",
   "metadata": {},
   "source": [
    "#Ans4.) \n",
    "\n",
    "The read(), readline(), and readlines() functions are used to read content from a file:\n",
    "\n",
    "read(): Reads the entire contents of the file as a single string.\n",
    "\n",
    "readline(): Reads a single line from the file.\n",
    "\n",
    "readlines(): Reads all lines from the file and returns them as a list\n"
   ]
  },
  {
   "cell_type": "code",
   "execution_count": 3,
   "id": "15258c95",
   "metadata": {},
   "outputs": [
    {
     "name": "stdout",
     "output_type": "stream",
     "text": [
      "Content: I want to become a Data Scientist\n",
      "First line: \n",
      "All lines: []\n"
     ]
    }
   ],
   "source": [
    "with open(\"example.txt\", \"r\") as file:\n",
    "    content = file.read()  # Read entire content\n",
    "    line = file.readline()  # Read a single line\n",
    "    lines = file.readlines()  # Read all lines\n",
    "\n",
    "print(\"Content:\", content)\n",
    "print(\"First line:\", line)\n",
    "print(\"All lines:\", lines)\n"
   ]
  },
  {
   "cell_type": "code",
   "execution_count": null,
   "id": "c4edbba4",
   "metadata": {},
   "outputs": [],
   "source": []
  },
  {
   "cell_type": "markdown",
   "id": "351b3f4a",
   "metadata": {},
   "source": [
    "#Ans5.) \n",
    "\n",
    "The with statement is used with open() to automatically handle the closing of files after the operations are done. The advantage of using with statement and open() together is that it ensures that the file is properly closed, even if an exception occurs during the operations on the file. It simplifies the code and makes it more readable."
   ]
  },
  {
   "cell_type": "markdown",
   "id": "21a35bc6",
   "metadata": {},
   "source": []
  },
  {
   "cell_type": "markdown",
   "id": "87b1e347",
   "metadata": {},
   "source": [
    "#Ans6.)\n",
    "\n",
    "The write() function is used to write content to a file, while the writelines() function is used to write a sequence of lines to a file"
   ]
  },
  {
   "cell_type": "code",
   "execution_count": 4,
   "id": "bd4dec6a",
   "metadata": {},
   "outputs": [],
   "source": [
    "# Using write() function\n",
    "with open(\"example.txt\", \"w\") as file:\n",
    "    file.write(\"Line 1\\n\")\n",
    "    file.write(\"Line 2\\n\")\n",
    "    file.write(\"Line 3\\n\")\n",
    "\n",
    "# Using writelines() function\n",
    "lines = [\"Line 4\\n\", \"Line 5\\n\", \"Line 6\\n\"]\n",
    "with open(\"example.txt\", \"a\") as file:\n",
    "    file.writelines(lines)\n"
   ]
  },
  {
   "cell_type": "code",
   "execution_count": null,
   "id": "b4487ddf",
   "metadata": {},
   "outputs": [],
   "source": []
  }
 ],
 "metadata": {
  "kernelspec": {
   "display_name": "Python 3 (ipykernel)",
   "language": "python",
   "name": "python3"
  },
  "language_info": {
   "codemirror_mode": {
    "name": "ipython",
    "version": 3
   },
   "file_extension": ".py",
   "mimetype": "text/x-python",
   "name": "python",
   "nbconvert_exporter": "python",
   "pygments_lexer": "ipython3",
   "version": "3.11.4"
  }
 },
 "nbformat": 4,
 "nbformat_minor": 5
}
